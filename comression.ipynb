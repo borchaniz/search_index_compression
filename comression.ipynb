{
 "cells": [
  {
   "cell_type": "code",
   "execution_count": 100,
   "metadata": {},
   "outputs": [],
   "source": [
    "import json\n",
    "import pickle"
   ]
  },
  {
   "cell_type": "code",
   "execution_count": 14,
   "metadata": {},
   "outputs": [],
   "source": [
    "def compress_1_number_vbe(number):\n",
    "    binary = bin(number)[2:]\n",
    "    res = ''\n",
    "    i = 0\n",
    "    while len(binary)>7:\n",
    "        res = '0'+binary[len(binary)-7:]+res\n",
    "        binary = binary[:len(binary)-7]\n",
    "        i+=1\n",
    "    res ='1'+ binary.zfill(7) + res\n",
    "    i+=1\n",
    "    return int(res,base=2),i"
   ]
  },
  {
   "cell_type": "code",
   "execution_count": 16,
   "metadata": {},
   "outputs": [],
   "source": [
    "def compress_vbe(numbers):\n",
    "    res = 0\n",
    "    for number in numbers:\n",
    "        compressed = compress_1_number_vbe(number)\n",
    "        res = (res<<(compressed[1]*8))+compressed[0]\n",
    "    return res"
   ]
  },
  {
   "cell_type": "code",
   "execution_count": 17,
   "metadata": {},
   "outputs": [
    {
     "data": {
      "text/plain": [
       "'0b10000001011111111000000101111111'"
      ]
     },
     "execution_count": 17,
     "metadata": {},
     "output_type": "execute_result"
    }
   ],
   "source": [
    "bin(compress_vbe([0b11111111,0b11111111]))"
   ]
  },
  {
   "cell_type": "code",
   "execution_count": 65,
   "metadata": {},
   "outputs": [],
   "source": [
    "def decompress_vbe(compressed_int):\n",
    "    res = []\n",
    "    compressed_str = bin(compressed_int)[2:]\n",
    "    while len(compressed_str)>0:\n",
    "        temp = ''\n",
    "        while len(compressed_str)>0 and compressed_str[len(compressed_str)-8]=='0':\n",
    "            temp = compressed_str[len(compressed_str)-7:]+temp\n",
    "            compressed_str = compressed_str[:len(compressed_str)-8]\n",
    "        temp = compressed_str[len(compressed_str)-7:]+temp\n",
    "        compressed_str = compressed_str[:len(compressed_str)-8]\n",
    "        res = [int(temp,base=2)]+res\n",
    "    return res"
   ]
  },
  {
   "cell_type": "code",
   "execution_count": 33,
   "metadata": {},
   "outputs": [],
   "source": [
    "def compress_gap(numbers):\n",
    "    res = [numbers[0]]\n",
    "    for index in range(1,len(numbers)):\n",
    "        res.append(numbers[index]-numbers[index-1])\n",
    "    return res"
   ]
  },
  {
   "cell_type": "code",
   "execution_count": 34,
   "metadata": {},
   "outputs": [],
   "source": [
    "def decompress_gap(compressed):\n",
    "    res = [compressed[0]]\n",
    "    for index in range(1,len(compressed)):\n",
    "        res.append(compressed[index]+res[index-1])\n",
    "    return res"
   ]
  },
  {
   "cell_type": "code",
   "execution_count": 35,
   "metadata": {},
   "outputs": [],
   "source": [
    "def compress_dual(numbers):\n",
    "    return compress_vbe(compress_gap(numbers))"
   ]
  },
  {
   "cell_type": "code",
   "execution_count": 36,
   "metadata": {},
   "outputs": [],
   "source": [
    "def decompress_dual(compressed):\n",
    "    return decompress_gap(decompress_vbe(compressed))"
   ]
  },
  {
   "cell_type": "code",
   "execution_count": 40,
   "metadata": {},
   "outputs": [],
   "source": [
    "with open('index_one.json') as f:\n",
    "  data = json.load(f)"
   ]
  },
  {
   "cell_type": "code",
   "execution_count": 41,
   "metadata": {},
   "outputs": [],
   "source": [
    "def string_to_nbr(doc_id):\n",
    "    result = 0\n",
    "    for char in doc_id:\n",
    "        result = result<<8\n",
    "        result+=ord(char)\n",
    "    return result"
   ]
  },
  {
   "cell_type": "code",
   "execution_count": 42,
   "metadata": {},
   "outputs": [],
   "source": [
    "def nbr_to_string(nbr):\n",
    "    result = ''\n",
    "    while nbr>0:\n",
    "        temp = nbr%256\n",
    "        nbr = nbr>>8\n",
    "        result = chr(temp)+result\n",
    "    return result"
   ]
  },
  {
   "cell_type": "code",
   "execution_count": 57,
   "metadata": {},
   "outputs": [],
   "source": [
    "def compress(dictionary):\n",
    "    result = []\n",
    "    last_key = 0\n",
    "    int_keys = []\n",
    "    for key in dictionary.keys():\n",
    "        int_keys.append(string_to_nbr(key))\n",
    "    for key in sorted(int_keys):\n",
    "        #print(key,string_to_nbr(key),string_to_nbr(key)>last_key)\n",
    "        result.append(key-last_key)\n",
    "        last_key = key\n",
    "        key = nbr_to_string(key)\n",
    "        result.append(len(dictionary[key]))\n",
    "        result=result+compress_gap(dictionary[key])\n",
    "    #return result\n",
    "    return compress_vbe(result)"
   ]
  },
  {
   "cell_type": "code",
   "execution_count": 73,
   "metadata": {},
   "outputs": [],
   "source": [
    "def decompress(vbe_compressed):\n",
    "    result = {}\n",
    "    compressed_list = decompress_vbe(vbe_compressed)\n",
    "    int_key = 0\n",
    "    while len(compressed_list)>0:\n",
    "        temp = compressed_list.pop(0)\n",
    "        int_key = int_key + temp\n",
    "        key = nbr_to_string(int_key)\n",
    "        length = compressed_list.pop(0)\n",
    "        result[key] = decompress_gap(compressed_list[:length])\n",
    "        compressed_list = compressed_list[length:]\n",
    "    return result"
   ]
  },
  {
   "cell_type": "code",
   "execution_count": 81,
   "metadata": {},
   "outputs": [],
   "source": [
    "def compress_all(dictionary):\n",
    "    res = {}\n",
    "    for key in dictionary:\n",
    "        res[key] = compress(dictionary[key])\n",
    "    return res"
   ]
  },
  {
   "cell_type": "code",
   "execution_count": 83,
   "metadata": {},
   "outputs": [],
   "source": [
    "compressed = compress_all(data)"
   ]
  },
  {
   "cell_type": "code",
   "execution_count": 85,
   "metadata": {},
   "outputs": [],
   "source": [
    "with open('out.json', 'w') as outfile:\n",
    "    json.dump(compressed, outfile)"
   ]
  },
  {
   "cell_type": "code",
   "execution_count": 93,
   "metadata": {},
   "outputs": [],
   "source": [
    "with open('out_bin','wb') as outfile:\n",
    "    pickle.dump(compressed,outfile)"
   ]
  },
  {
   "cell_type": "code",
   "execution_count": 95,
   "metadata": {},
   "outputs": [],
   "source": [
    "with open('out_bin','rb') as infile:\n",
    "    saved = pickle.load(infile)"
   ]
  },
  {
   "cell_type": "code",
   "execution_count": 98,
   "metadata": {},
   "outputs": [],
   "source": [
    "def decompress_all(compressed):\n",
    "    res = {}\n",
    "    for key in compressed:\n",
    "        res[key] = decompress(compressed[key])\n",
    "    return res"
   ]
  },
  {
   "cell_type": "code",
   "execution_count": null,
   "metadata": {},
   "outputs": [],
   "source": [
    "decompress_all(saved)"
   ]
  }
 ],
 "metadata": {
  "kernelspec": {
   "display_name": "Python 3",
   "language": "python",
   "name": "python3"
  },
  "language_info": {
   "codemirror_mode": {
    "name": "ipython",
    "version": 3
   },
   "file_extension": ".py",
   "mimetype": "text/x-python",
   "name": "python",
   "nbconvert_exporter": "python",
   "pygments_lexer": "ipython3",
   "version": "3.7.4"
  }
 },
 "nbformat": 4,
 "nbformat_minor": 2
}
